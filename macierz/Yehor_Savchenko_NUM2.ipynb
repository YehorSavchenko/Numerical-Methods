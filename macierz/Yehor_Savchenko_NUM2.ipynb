{
  "nbformat": 4,
  "nbformat_minor": 0,
  "metadata": {
    "colab": {
      "name": "Yehor_Savchenko_NUM2.ipynb",
      "provenance": [],
      "collapsed_sections": []
    },
    "kernelspec": {
      "name": "python3",
      "display_name": "Python 3"
    },
    "language_info": {
      "name": "python"
    }
  },
  "cells": [
    {
      "cell_type": "markdown",
      "metadata": {
        "id": "_W9KoLDyjYhj"
      },
      "source": [
        "Savchenko Yehor, Metody Numeryczne, zadanie NUM 2\n",
        "\n",
        "# **Instrukcja do programy:**\n",
        "\n",
        "\t\n",
        "\n",
        "1.   Zainstalować python: https://www.python.org/downloads/\n",
        "2.   Zainstalować biblioteki NumPy: `pip install numpy`\n",
        "3.   Wpisać do terminalu: `python “FileName”`\n",
        "\n"
      ]
    },
    {
      "cell_type": "markdown",
      "metadata": {
        "id": "nhLlA-Q0l7ib"
      },
      "source": [
        "# **Wstęp:**\n",
        "Miałem podane dwie symetryczne, rzeczywiste macierzy A1 i A2. Zdefiniowałem wektor transponowany:\n",
        "$\\mathrm b={(5.40780228, 3.67008677, 3.12306266, -1.11187948, 0.54437218)}^{T}$\n",
        "\n",
        "oraz wektor \n",
        "\n",
        "$\\mathrm b' = b + ({10}^{-5}$, 0, 0, 0, 0).\n",
        "\n",
        "Musiałem rozwiązać równania $\\mathrm A_iy_i = b$ oraz $\\mathrm A_iy'_i = b'\n",
        "\\text{ dla }i=1,2$\n",
        "\n",
        "A potem wyznaczyć $\\mathrm {\\Delta}_i = ||y_i - y'_i||_2 $ \n",
        "\n",
        "Wszystkie liczenia robiłem przy pomocy biblioteki `numpy`. Wyniki dla $\\mathrm  y_1 \\text{i } y_2$ liczyłem przy pomocy funkcji `numpy.linalg.solve()`, która nie wylicza macierz odwrotną (Można to sprawdzić `G. Strang, Linear Algebra and Its Applications, 2nd Ed., Orlando, FL, Academic Press, Inc., 1980, pg. 22.`). Także używałem normy Euklidesowej dla wyliczenia delty."
      ]
    },
    {
      "cell_type": "markdown",
      "metadata": {
        "id": "x3pgfrv6mDhZ"
      },
      "source": [
        "# **Prezentacja wyników:**\n",
        "\n",
        "Z pierwszego równania $\\mathrm A_1y_1 = b$ otrzymałem $\\mathrm y_1 = (\\\\\n",
        "\\quad\\quad\\quad3.28716602,\\\\\n",
        "\\quad\\quad\\quad3.8029998,\\\\\n",
        "\\quad\\quad\\quad0.25146854,\\\\\n",
        "\\quad\\quad\\quad-1.57875474,\\\\\n",
        "\\quad\\quad\\quad-0.50410395\\\\\n",
        "\\quad\\quad) $\n",
        "\n",
        "Z drugiego równania $\\mathrm A_2y_2 = b$ otrzymałem $\\mathrm y_2 = (\\\\\n",
        "\\quad\\quad\\quad3.18374857,\\\\\n",
        "\\quad\\quad\\quad3.94032033,\\\\\n",
        "\\quad\\quad\\quad0.27419287,\\\\\n",
        "\\quad\\quad\\quad-1.47117406,\\\\\n",
        "\\quad\\quad\\quad-0.31318674\\\\\n",
        "\\quad\\quad) $\n",
        "\n",
        "Z pierwszego równania $\\mathrm A_1y'_1 = b'$ otrzymałem $\\mathrm y'_1 = (\\\\\n",
        "\\quad\\quad\\quad16.74173331,\\\\\n",
        "\\quad\\quad\\quad-14.06233582,\\\\\n",
        "\\quad\\quad\\quad-2.70495914,\\\\\n",
        "\\quad\\quad\\quad-15.57494944,\\\\\n",
        "\\quad\\quad\\quad-25.34234554\\\\\n",
        "\\quad\\quad) $\n",
        "\n",
        "Z drugiego równania $\\mathrm A_2y'_2 = b'$ otrzymałem $\\mathrm y_2 = (\\\\\n",
        "\\quad\\quad\\quad3.18375389,\\\\\n",
        "\\quad\\quad\\quad3.94032237,\\\\\n",
        "\\quad\\quad\\quad0.27419131,\\\\\n",
        "\\quad\\quad\\quad-1.47117514,\\\\\n",
        "\\quad\\quad\\quad-0.31318814\\\\\n",
        "\\quad\\quad) $\n",
        "\n",
        "\n",
        "$\\mathrm {\\Delta}_1 = ||y_1 - y'_1||_2 = 36.35612430090814 $ \n",
        "$\\mathrm {\\Delta}_2 = ||y_2 - y'_2||_2 = 6.1667394654491605*{10}^{-6} $\n",
        "\n",
        "\n"
      ]
    },
    {
      "cell_type": "markdown",
      "metadata": {
        "id": "pysPbgydrJ5L"
      },
      "source": [
        "# **Przedyskutowanie wyników:**\n",
        "Przy wyliczeniu pierwszych dwóch równań dla wektora $\\mathrm b$ otrzymałem bardzo \"podobne\" wyniki, czyli mała róznica między nimi.\n",
        "Ale jak wyliczyłem dla wektora $\\mathrm b'$, który jest obarczony błędem to już można zobaczyć , że wyniki bardzo się różnią. Wyniki $\\mathrm y'_1$ różnią się od $\\mathrm y_1$, a w $\\mathrm y'_2$ bardzo podobne jak w $\\mathrm y_2$. Więc mogę zauważyć, że mała zmiana współczynników powoduje,że różnica rozwiązań jest $\\mathrm \\sim {10}^{6}$ razy większa, niż zaburzenie współczynników.Pierwszy układ równań jest źle uwarunkowany."
      ]
    }
  ]
}